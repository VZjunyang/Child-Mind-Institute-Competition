{
 "cells": [
  {
   "cell_type": "code",
   "execution_count": 27,
   "metadata": {},
   "outputs": [],
   "source": [
    "import pandas as pd\n",
    "import numpy as np\n",
    "import xgboost as xgb\n",
    "from sklearn.model_selection import train_test_split\n",
    "from sklearn.metrics import cohen_kappa_score\n",
    "from sklearn.ensemble import RandomForestClassifier\n",
    "from sklearn.linear_model import LogisticRegression\n",
    "from sklearn.svm import SVC\n",
    "from sklearn.neighbors import KNeighborsClassifier\n",
    "from lightgbm import LGBMClassifier\n",
    "from catboost import CatBoostClassifier\n",
    "import sys\n",
    "from utils.metrics import quadratic_weighted_kappa\n",
    "from utils.variables import search_space_xgb, search_space_lgbm, search_space_catboost, search_space_rf, search_space_logistic, search_knn, search_space_SVC\n",
    "from hyperopt import fmin, tpe, hp, STATUS_OK, Trials"
   ]
  },
  {
   "cell_type": "code",
   "execution_count": 30,
   "metadata": {},
   "outputs": [],
   "source": [
    "train_path = 'training_sets/imputed_train_grid.csv'\n",
    "name = \"imputed_train_grid\"\n",
    "\n",
    "dict_models = {\n",
    "    'xgb': {\"model\": xgb.XGBClassifier, \"search_space\": search_space_xgb},\n",
    "    'lgbm': {\"model\": LGBMClassifier, \"search_space\": search_space_lgbm},\n",
    "    'catboost': {\"model\": CatBoostClassifier, \"search_space\": search_space_catboost},\n",
    "    'rf': {\"model\": RandomForestClassifier, \"search_space\": search_space_rf},\n",
    "    # 'logistic': {\"model\": LogisticRegression, \"search_space\": search_space_logistic},\n",
    "    # 'knn': {\"model\": KNeighborsClassifier, \"search_space\": search_knn},\n",
    "}"
   ]
  },
  {
   "cell_type": "code",
   "execution_count": 31,
   "metadata": {},
   "outputs": [],
   "source": [
    "# read the data\n",
    "train = pd.read_csv(train_path)\n",
    "\n",
    "ts = pd.read_csv(\"time_series_extraction/all_participants_ts_extract_train.csv\")\n",
    "ts[\"id\"] = ts[\"kid_id\"]\n",
    "ts = ts.drop(columns=[\"kid_id\", \"index\"])\n",
    "\n",
    "train = pd.merge(train, ts, on=\"id\", how=\"left\")\n",
    "# train = train.drop(\"PreInt_EduHx-Season.1\", axis=1)\n",
    "\n",
    "# preprocessing\n",
    "\n",
    "cat_c = ['Basic_Demos-Enroll_Season', 'CGAS-Season', 'Physical-Season', 'Fitness_Endurance-Season', \n",
    "        'FGC-Season', 'BIA-Season', 'PAQ_A-Season', 'PAQ_C-Season', 'SDS-Season', 'PreInt_EduHx-Season']\n",
    "pciat = train.columns[train.columns.str.startswith('PCIAT-PCIAT')].tolist() + ['sii', \"PCIAT-Season\"]\n",
    "\n",
    "train_clean = pd.concat([train, pd.get_dummies(train[cat_c]).astype(int)], axis=1)\n",
    "to_drop = [\"id\"] + cat_c\n",
    "train_clean = train_clean.drop(to_drop, axis=1)\n",
    "train_clean = train_clean.dropna(subset=pciat)\n",
    "\n",
    "x_train, x_test, y_train, y_test = train_test_split(train_clean.drop(pciat, axis=1), train_clean['sii'], test_size=0.2, random_state=42)"
   ]
  },
  {
   "cell_type": "code",
   "execution_count": 37,
   "metadata": {},
   "outputs": [
    {
     "name": "stdout",
     "output_type": "stream",
     "text": [
      "['PreInt_EduHx-Season.1']\n"
     ]
    }
   ],
   "source": [
    "object_columns = x_train.select_dtypes(include=['object']).columns.tolist()\n",
    "print(object_columns)"
   ]
  },
  {
   "cell_type": "code",
   "execution_count": 6,
   "metadata": {},
   "outputs": [],
   "source": [
    "results = []"
   ]
  },
  {
   "cell_type": "code",
   "execution_count": 11,
   "metadata": {},
   "outputs": [
    {
     "name": "stdout",
     "output_type": "stream",
     "text": [
      "Training model:  xgb\n",
      "100%|██████████| 50/50 [00:36<00:00,  1.38trial/s, best loss: -0.3640079155578063]\n",
      "Training model:  lgbm\n",
      "100%|██████████| 50/50 [00:14<00:00,  3.47trial/s, best loss: -0.35678407812319257]\n",
      "Training model:  catboost\n",
      "100%|██████████| 50/50 [03:03<00:00,  3.67s/trial, best loss: -0.3267853451745909] \n",
      "Training model:  rf\n",
      "100%|██████████| 50/50 [04:04<00:00,  4.88s/trial, best loss: -0.3180700080503295] \n",
      "Training model:  logistic\n",
      "100%|██████████| 50/50 [00:03<00:00, 13.17trial/s, best loss: -0.0830636251127308]\n",
      "Training model:  knn\n",
      "100%|██████████| 50/50 [00:01<00:00, 40.72trial/s, best loss: -0.18055680691954223]\n"
     ]
    }
   ],
   "source": [
    "from warnings import filterwarnings\n",
    "filterwarnings('ignore')\n",
    "\n",
    "for clf in dict_models.keys():\n",
    "\n",
    "    print(\"Training model: \", clf)\n",
    "\n",
    "    clf_model = dict_models[clf]['model']\n",
    "    search_space = dict_models[clf]['search_space']\n",
    "\n",
    "    def objective(params):\n",
    "        if clf==\"lgbm\":\n",
    "            params[\"verbose\"] = -1\n",
    "        if clf==\"catboost\":\n",
    "            params[\"verbose\"] = 0   \n",
    "        model = clf_model(**params)\n",
    "        model.fit(x_train.to_numpy(), y_train.to_numpy())\n",
    "        y_pred = model.predict(x_test.to_numpy())\n",
    "        score = cohen_kappa_score(y_test, y_pred, weights='quadratic')\n",
    "        return {'loss': -score, 'status': STATUS_OK}\n",
    "    \n",
    "    # Fine Tuning model\n",
    "    trials = Trials()\n",
    "\n",
    "    best_params = fmin(\n",
    "    fn=objective,  # Objective function\n",
    "    space=search_space,  # Hyperparameter search space\n",
    "    algo=tpe.suggest,  # Tree-structured Parzen Estimator\n",
    "    max_evals=50,  # Number of iterations\n",
    "    trials=trials,  # Store trial results\n",
    "    rstate=np.random.default_rng(42)  # For reproducibility\n",
    "    )\n",
    "\n",
    "    if clf == \"rf\":\n",
    "        best_params[\"n_estimators\"] = int(best_params[\"n_estimators\"])\n",
    "        best_params[\"max_depth\"] = int(best_params[\"max_depth\"])\n",
    "\n",
    "    if clf == \"catboost\":\n",
    "        best_params[\"verbose\"] = 0\n",
    "\n",
    "    if clf == \"xgb\":\n",
    "        best_params[\"max_depth\"] = int(best_params[\"max_depth\"])\n",
    "        best_params[\"n_estimators\"] = int(best_params[\"n_estimators\"])\n",
    "\n",
    "    if clf == \"lgbm\":\n",
    "        best_params[\"max_depth\"] = int(best_params[\"max_depth\"])\n",
    "        best_params[\"n_estimators\"] = int(best_params[\"n_estimators\"])\n",
    "\n",
    "\n",
    "    if clf == \"knn\":\n",
    "        best_params[\"n_neighbors\"] = int(best_params[\"n_neighbors\"])\n",
    "\n",
    "    # Train the model\n",
    "    model = clf_model(**best_params)\n",
    "    model.fit(x_train.to_numpy(), y_train.to_numpy())\n",
    "\n",
    "    # Predict on the test set\n",
    "    y_pred = model.predict(x_test.to_numpy())\n",
    "\n",
    "    results.append(pd.DataFrame(index = [clf], data = {'QWK': [cohen_kappa_score(y_test, y_pred, weights='quadratic')], 'params': [best_params], \"Accuracy\": [model.score(x_test.to_numpy(), y_test.to_numpy())]}))\n",
    "\n",
    "results = pd.concat(results)"
   ]
  },
  {
   "cell_type": "code",
   "execution_count": null,
   "metadata": {},
   "outputs": [],
   "source": []
  }
 ],
 "metadata": {
  "kernelspec": {
   "display_name": "Python (edge)",
   "language": "python",
   "name": "edge"
  },
  "language_info": {
   "codemirror_mode": {
    "name": "ipython",
    "version": 3
   },
   "file_extension": ".py",
   "mimetype": "text/x-python",
   "name": "python",
   "nbconvert_exporter": "python",
   "pygments_lexer": "ipython3",
   "version": "3.9.19"
  }
 },
 "nbformat": 4,
 "nbformat_minor": 2
}
