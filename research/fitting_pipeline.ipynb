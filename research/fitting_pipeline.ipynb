{
 "cells": [
  {
   "cell_type": "code",
   "execution_count": 1,
   "metadata": {},
   "outputs": [],
   "source": [
    "import os\n",
    "parent_path = os.path.dirname(os.getcwd())\n",
    "os.chdir(parent_path)"
   ]
  },
  {
   "cell_type": "code",
   "execution_count": 2,
   "metadata": {},
   "outputs": [
    {
     "name": "stderr",
     "output_type": "stream",
     "text": [
      "/Data/victor.zhuang/Code/MIT/env/lib64/python3.9/site-packages/networkx/utils/backends.py:135: RuntimeWarning: networkx backend defined more than once: nx-loopback\n",
      "  backends.update(_get_backends(\"networkx.backends\"))\n"
     ]
    }
   ],
   "source": [
    "import pandas as pd\n",
    "import numpy as np\n",
    "import xgboost as xgb\n",
    "from sklearn.model_selection import train_test_split\n",
    "from sklearn.ensemble import RandomForestClassifier\n",
    "from sklearn.linear_model import LogisticRegression\n",
    "from sklearn.svm import SVC\n",
    "from sklearn.neighbors import KNeighborsClassifier\n",
    "from lightgbm import LGBMClassifier\n",
    "from catboost import CatBoostClassifier\n",
    "import sys\n",
    "from utils.metrics import quadratic_weighted_kappa\n",
    "from utils.variables import search_space_xgb, search_space_lgbm, search_space_catboost, search_space_rf, search_space_logistic, search_knn, search_space_SVC\n",
    "from hyperopt import fmin, tpe, hp, STATUS_OK, Trials"
   ]
  },
  {
   "cell_type": "code",
   "execution_count": 8,
   "metadata": {},
   "outputs": [],
   "source": [
    "search_space = search_space_xgb\n",
    "train_path = 'data/train.csv'"
   ]
  },
  {
   "cell_type": "code",
   "execution_count": 9,
   "metadata": {},
   "outputs": [],
   "source": [
    "# read the data\n",
    "train = pd.read_csv(train_path)\n",
    "\n",
    "# preprocessing\n",
    "\n",
    "cat_c = ['Basic_Demos-Enroll_Season', 'CGAS-Season', 'Physical-Season', 'Fitness_Endurance-Season', \n",
    "        'FGC-Season', 'BIA-Season', 'PAQ_A-Season', 'PAQ_C-Season', 'SDS-Season', 'PreInt_EduHx-Season']\n",
    "pciat = train.columns[train.columns.str.startswith('PCIAT-PCIAT')].tolist() + ['sii', \"PCIAT-Season\"]\n",
    "\n",
    "train_clean = pd.concat([train, pd.get_dummies(train[cat_c]).astype(int)], axis=1)\n",
    "to_drop = [\"id\"] + cat_c\n",
    "train_clean = train_clean.drop(to_drop, axis=1)\n",
    "train_clean = train_clean.dropna(subset=pciat)\n",
    "\n",
    "x_train, x_test, y_train, y_test = train_test_split(train_clean.drop(pciat, axis=1), train_clean['sii'], test_size=0.2, random_state=42)"
   ]
  },
  {
   "cell_type": "code",
   "execution_count": 10,
   "metadata": {},
   "outputs": [],
   "source": [
    "def objective(params):\n",
    "\n",
    "    params['max_depth'] = int(params['max_depth'])\n",
    "    params['n_estimators'] = int(params['n_estimators'])   \n",
    "    model = xgb.XGBClassifier(**params)\n",
    "    model.fit(x_train.to_numpy(), y_train.to_numpy())\n",
    "    y_pred = model.predict(x_test.to_numpy())\n",
    "    score = quadratic_weighted_kappa(y_test, y_pred)\n",
    "\n",
    "    return {'loss': -score, 'status': STATUS_OK}"
   ]
  },
  {
   "cell_type": "code",
   "execution_count": null,
   "metadata": {},
   "outputs": [
    {
     "name": "stdout",
     "output_type": "stream",
     "text": [
      "  0%|          | 0/50 [00:00<?, ?trial/s, best loss=?]"
     ]
    }
   ],
   "source": [
    "# Fine Tuning model\n",
    "trials = Trials()\n",
    "\n",
    "best_params = fmin(\n",
    "fn=objective,  # Objective function\n",
    "space=search_space,  # Hyperparameter search space\n",
    "algo=tpe.suggest,  # Tree-structured Parzen Estimator\n",
    "max_evals=50,  # Number of iterations\n",
    "trials=trials,  # Store trial results\n",
    "rstate=np.random.default_rng(42)  # For reproducibility\n",
    ")\n",
    "\n",
    "best_params['max_depth'] = int(best_params['max_depth'])\n",
    "best_params['n_estimators'] = int(best_params['n_estimators'])\n",
    "\n",
    "# Train the model\n",
    "model = xgb.XGBClassifier(**best_params)\n",
    "model.fit(x_train.to_numpy(), y_train.to_numpy())\n",
    "\n",
    "# Predict on the test set\n",
    "y_pred = model.predict(x_test.to_numpy())"
   ]
  },
  {
   "cell_type": "code",
   "execution_count": null,
   "metadata": {},
   "outputs": [],
   "source": [
    "print(f\"QWK: {quadratic_weighted_kappa(y_test, y_pred)}\\n\")\n",
    "print(\"------------------------------------------------------------------\\n\")\n",
    "print(f\"Accuracy: {model.score(x_test.to_numpy(), y_test.to_numpy())}\\n\")\n",
    "print(\"------------------------------------------------------------------\\n\")\n",
    "print(f\"Model: {model.get_params()}\\n\")\n",
    "print(\"------------------------------------------------------------------\\n\")\n",
    "print(f\"Data: {train_path}\\n\")\n",
    "print(\"------------------------------------------------------------------\\n\")\n",
    "print(f\"Features: {train_clean.columns}\\n\")\n",
    "print(\"------------------------------------------------------------------\\n\")"
   ]
  }
 ],
 "metadata": {
  "kernelspec": {
   "display_name": "Python (edge)",
   "language": "python",
   "name": "edge"
  },
  "language_info": {
   "codemirror_mode": {
    "name": "ipython",
    "version": 3
   },
   "file_extension": ".py",
   "mimetype": "text/x-python",
   "name": "python",
   "nbconvert_exporter": "python",
   "pygments_lexer": "ipython3",
   "version": "3.9.19"
  }
 },
 "nbformat": 4,
 "nbformat_minor": 2
}
