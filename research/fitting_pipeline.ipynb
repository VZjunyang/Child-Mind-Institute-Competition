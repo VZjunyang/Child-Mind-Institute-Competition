{
 "cells": [
  {
   "cell_type": "code",
   "execution_count": 2,
   "metadata": {},
   "outputs": [],
   "source": [
    "import os\n",
    "parent_path = os.path.dirname(os.getcwd())\n",
    "os.chdir(parent_path)"
   ]
  },
  {
   "cell_type": "code",
   "execution_count": null,
   "metadata": {},
   "outputs": [
    {
     "name": "stderr",
     "output_type": "stream",
     "text": [
      "/Data/victor.zhuang/Code/MIT/env/lib64/python3.9/site-packages/networkx/utils/backends.py:135: RuntimeWarning: networkx backend defined more than once: nx-loopback\n",
      "  backends.update(_get_backends(\"networkx.backends\"))\n"
     ]
    }
   ],
   "source": [
    "import pandas as pd\n",
    "import numpy as np\n",
    "import xgboost as xgb\n",
    "from sklearn.model_selection import train_test_split\n",
    "from sklearn.ensemble import RandomForestClassifier\n",
    "from sklearn.linear_model import LogisticRegression\n",
    "from sklearn.svm import SVC\n",
    "from sklearn.neighbors import KNeighborsClassifier\n",
    "from lightgbm import LGBMClassifier\n",
    "from catboost import CatBoostClassifier\n",
    "import sys\n",
    "from utils.metrics import quadratic_weighted_kappa\n",
    "from utils.variables import search_space_xgb, search_space_lgbm, search_space_catboost, search_space_rf, search_space_logistic, search_knn, search_space_SVC\n",
    "from hyperopt import fmin, tpe, hp, STATUS_OK, Trials"
   ]
  },
  {
   "cell_type": "code",
   "execution_count": 4,
   "metadata": {},
   "outputs": [],
   "source": [
    "search_space = search_space_xgb\n",
    "train_path = 'data/train.csv'"
   ]
  },
  {
   "cell_type": "code",
   "execution_count": 5,
   "metadata": {},
   "outputs": [],
   "source": [
    "# read the data\n",
    "train = pd.read_csv(train_path)\n",
    "\n",
    "# preprocessing\n",
    "\n",
    "cat_c = ['Basic_Demos-Enroll_Season', 'CGAS-Season', 'Physical-Season', 'Fitness_Endurance-Season', \n",
    "        'FGC-Season', 'BIA-Season', 'PAQ_A-Season', 'PAQ_C-Season', 'SDS-Season', 'PreInt_EduHx-Season']\n",
    "pciat = train.columns[train.columns.str.startswith('PCIAT-PCIAT')].tolist() + ['sii', \"PCIAT-Season\"]\n",
    "\n",
    "train_clean = pd.concat([train, pd.get_dummies(train[cat_c]).astype(int)], axis=1)\n",
    "to_drop = [\"id\"] + cat_c\n",
    "train_clean = train_clean.drop(to_drop, axis=1)\n",
    "train_clean = train_clean.dropna(subset=pciat)\n",
    "\n",
    "x_train, x_test, y_train, y_test = train_test_split(train_clean.drop(pciat, axis=1), train_clean['sii'], test_size=0.2, random_state=42)"
   ]
  },
  {
   "cell_type": "code",
   "execution_count": 6,
   "metadata": {},
   "outputs": [],
   "source": [
    "from hyperopt.pyll import scope\n",
    "search_space_xgb = {\n",
    "    'max_depth': scope.int(hp.quniform('max_depth', 3, 10, 1)),\n",
    "    'learning_rate': hp.loguniform('learning_rate', np.log(0.01), np.log(0.2)), \n",
    "    'n_estimators': scope.int(hp.quniform('n_estimators', 50, 500, 10)),\n",
    "    'subsample': hp.uniform('subsample', 0.5, 1),\n",
    "    'colsample_bytree': hp.uniform('colsample_bytree', 0.5, 1), \n",
    "}"
   ]
  },
  {
   "cell_type": "code",
   "execution_count": 8,
   "metadata": {},
   "outputs": [],
   "source": [
    "def objective(params):\n",
    "\n",
    "    # params['max_depth'] = int(params['max_depth'])\n",
    "    # params['n_estimators'] = int(params['n_estimators'])   \n",
    "    model = xgb.XGBClassifier(**params)\n",
    "    model.fit(x_train.to_numpy(), y_train.to_numpy())\n",
    "    y_pred = model.predict(x_test.to_numpy())\n",
    "    score = quadratic_weighted_kappa(y_test, y_pred)\n",
    "\n",
    "    return {'loss': -score, 'status': STATUS_OK}"
   ]
  },
  {
   "cell_type": "code",
   "execution_count": 10,
   "metadata": {},
   "outputs": [
    {
     "name": "stdout",
     "output_type": "stream",
     "text": [
      "100%|██████████| 50/50 [00:59<00:00,  1.19s/trial, best loss: -0.3862468102630475] \n"
     ]
    }
   ],
   "source": [
    "# Fine Tuning model\n",
    "trials = Trials()\n",
    "\n",
    "best_params = fmin(\n",
    "fn=objective,  # Objective function\n",
    "space=search_space_xgb,  # Hyperparameter search space\n",
    "algo=tpe.suggest,  # Tree-structured Parzen Estimator\n",
    "max_evals=50,  # Number of iterations\n",
    "trials=trials,  # Store trial results\n",
    "rstate=np.random.default_rng(42)  # For reproducibility\n",
    ")\n",
    "\n",
    "best_params['max_depth'] = int(best_params['max_depth'])\n",
    "best_params['n_estimators'] = int(best_params['n_estimators'])\n",
    "\n",
    "# Train the model\n",
    "model = xgb.XGBClassifier(**best_params)\n",
    "model.fit(x_train.to_numpy(), y_train.to_numpy())\n",
    "\n",
    "# Predict on the test set\n",
    "y_pred = model.predict(x_test.to_numpy())"
   ]
  },
  {
   "cell_type": "code",
   "execution_count": 7,
   "metadata": {},
   "outputs": [
    {
     "name": "stdout",
     "output_type": "stream",
     "text": [
      "QWK: 0.3862468102630475\n",
      "\n",
      "------------------------------------------------------------------\n",
      "\n",
      "Accuracy: 0.6280373831775701\n",
      "\n",
      "------------------------------------------------------------------\n",
      "\n",
      "Model: {'objective': 'multi:softprob', 'base_score': None, 'booster': None, 'callbacks': None, 'colsample_bylevel': None, 'colsample_bynode': None, 'colsample_bytree': 0.6477205861351052, 'device': None, 'early_stopping_rounds': None, 'enable_categorical': False, 'eval_metric': None, 'feature_types': None, 'gamma': None, 'grow_policy': None, 'importance_type': None, 'interaction_constraints': None, 'learning_rate': 0.08838500339046752, 'max_bin': None, 'max_cat_threshold': None, 'max_cat_to_onehot': None, 'max_delta_step': None, 'max_depth': 8, 'max_leaves': None, 'min_child_weight': None, 'missing': nan, 'monotone_constraints': None, 'multi_strategy': None, 'n_estimators': 280, 'n_jobs': None, 'num_parallel_tree': None, 'random_state': None, 'reg_alpha': None, 'reg_lambda': None, 'sampling_method': None, 'scale_pos_weight': None, 'subsample': 0.899960110229751, 'tree_method': None, 'validate_parameters': None, 'verbosity': None}\n",
      "\n",
      "------------------------------------------------------------------\n",
      "\n",
      "Data: data/train.csv\n",
      "\n",
      "------------------------------------------------------------------\n",
      "\n",
      "Features: Index(['Basic_Demos-Age', 'Basic_Demos-Sex', 'CGAS-CGAS_Score', 'Physical-BMI',\n",
      "       'Physical-Height', 'Physical-Weight', 'Physical-Waist_Circumference',\n",
      "       'Physical-Diastolic_BP', 'Physical-HeartRate', 'Physical-Systolic_BP',\n",
      "       ...\n",
      "       'PAQ_C-Season_Summer', 'PAQ_C-Season_Winter', 'SDS-Season_Fall',\n",
      "       'SDS-Season_Spring', 'SDS-Season_Summer', 'SDS-Season_Winter',\n",
      "       'PreInt_EduHx-Season_Fall', 'PreInt_EduHx-Season_Spring',\n",
      "       'PreInt_EduHx-Season_Summer', 'PreInt_EduHx-Season_Winter'],\n",
      "      dtype='object', length=111)\n",
      "\n",
      "------------------------------------------------------------------\n",
      "\n"
     ]
    }
   ],
   "source": [
    "print(f\"QWK: {quadratic_weighted_kappa(y_test, y_pred)}\\n\")\n",
    "print(\"------------------------------------------------------------------\\n\")\n",
    "print(f\"Accuracy: {model.score(x_test.to_numpy(), y_test.to_numpy())}\\n\")\n",
    "print(\"------------------------------------------------------------------\\n\")\n",
    "print(f\"Model: {model.get_params()}\\n\")\n",
    "print(\"------------------------------------------------------------------\\n\")\n",
    "print(f\"Data: {train_path}\\n\")\n",
    "print(\"------------------------------------------------------------------\\n\")\n",
    "print(f\"Features: {train_clean.columns}\\n\")\n",
    "print(\"------------------------------------------------------------------\\n\")"
   ]
  }
 ],
 "metadata": {
  "kernelspec": {
   "display_name": "Python (edge)",
   "language": "python",
   "name": "edge"
  },
  "language_info": {
   "codemirror_mode": {
    "name": "ipython",
    "version": 3
   },
   "file_extension": ".py",
   "mimetype": "text/x-python",
   "name": "python",
   "nbconvert_exporter": "python",
   "pygments_lexer": "ipython3",
   "version": "3.9.19"
  }
 },
 "nbformat": 4,
 "nbformat_minor": 2
}
