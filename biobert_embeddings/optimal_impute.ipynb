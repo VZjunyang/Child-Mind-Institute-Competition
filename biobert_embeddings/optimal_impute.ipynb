{
 "cells": [
  {
   "cell_type": "markdown",
   "metadata": {},
   "source": [
    "# Optimal KNN Imputation"
   ]
  },
  {
   "cell_type": "markdown",
   "metadata": {},
   "source": [
    "## Read train-test files"
   ]
  },
  {
   "cell_type": "code",
   "execution_count": null,
   "metadata": {},
   "outputs": [],
   "source": [
    "using DataFrames\n",
    "using CSV\n",
    "using DataFrames\n",
    "using StatsBase\n",
    "\n",
    "# Load the CSV files into data frames\n",
    "train = CSV.read(\"../data/train.csv\", DataFrame)\n",
    "\n",
    "# Display the data\n",
    "first(train, 5)\n",
    "first(test, 5)\n",
    "first(data_dict, 5)"
   ]
  },
  {
   "cell_type": "markdown",
   "metadata": {},
   "source": [
    "## Preprocess data"
   ]
  },
  {
   "cell_type": "code",
   "execution_count": 7,
   "metadata": {},
   "outputs": [],
   "source": [
    "# Specify the categorical columns\n",
    "cat_c = [\"Basic_Demos-Enroll_Season\", \"CGAS-Season\", \"Physical-Season\", \"Fitness_Endurance-Season\", \n",
    "           \"FGC-Season\", \"BIA-Season\", \"PAQ_A-Season\", \"PAQ_C-Season\", \"SDS-Season\", \"PreInt_EduHx-Season\",\n",
    "            \"Basic_Demos-Sex\", \"FGC-FGC_CU_Zone\", \"FGC-FGC_GSND_Zone\", \"FGC-FGC_GSD_Zone\",\n",
    "           \"FGC-FGC_PU_Zone\", \"FGC-FGC_SRL_Zone\", \"FGC-FGC_SRR_Zone\", \"FGC-FGC_TL_Zone\", \"BIA-BIA_Activity_Level_num\",\n",
    "           \"BIA-BIA_Frame_num\"]\n",
    "\n",
    "id_col = [\"id\"]\n",
    "\n",
    "pciat = filter(name -> startswith(name, \"PCIAT-PCIAT\"), names(train))\n",
    "append!(pciat, [\"sii\", \"PCIAT-Season\"])\n",
    "\n",
    "columns_float = setdiff(names(train), cat_c ∪ pciat ∪ id_col)\n",
    "\n",
    "# Filter the numeric columns and convert them to numeric types\n",
    "train_filtered_float = train[:, columns_float]\n",
    "train_filtered_cat = train[:, cat_c]\n",
    "\n",
    "for col in names(train_filtered_float)\n",
    "    train_filtered_float[!, col] = map(x -> \n",
    "        try \n",
    "            parse(Float64, string(x)) \n",
    "        catch \n",
    "            missing \n",
    "        end, train_filtered_float[!, col])\n",
    "end"
   ]
  },
  {
   "cell_type": "markdown",
   "metadata": {},
   "source": [
    "## Impute and save"
   ]
  },
  {
   "cell_type": "code",
   "execution_count": 10,
   "metadata": {},
   "outputs": [],
   "source": [
    "function calculate_mode(column)\n",
    "    nonmissing_values = skipmissing(column)\n",
    "    return mode(nonmissing_values)\n",
    "end\n",
    "\n",
    "for col in names(train_filtered_cat)\n",
    "    column = train_filtered_cat[!, col]\n",
    "    mode_val = calculate_mode(column)\n",
    "    train_filtered_cat[!, col] = map(x -> ismissing(x) ? mode_val : x, column)\n",
    "end"
   ]
  },
  {
   "cell_type": "code",
   "execution_count": null,
   "metadata": {},
   "outputs": [],
   "source": [
    "lnr = IAI.OptKNNImputationLearner(method = \"opt_knn\", random_seed=12)"
   ]
  },
  {
   "cell_type": "code",
   "execution_count": null,
   "metadata": {},
   "outputs": [],
   "source": [
    "IAI.fit!(lnr, train_filtered_float)"
   ]
  },
  {
   "cell_type": "code",
   "execution_count": null,
   "metadata": {},
   "outputs": [],
   "source": [
    "completed_data = IAI.transform(lnr, train_filtered_float)"
   ]
  },
  {
   "cell_type": "code",
   "execution_count": null,
   "metadata": {},
   "outputs": [],
   "source": [
    "append!(cat_c, pciat, id_col)"
   ]
  },
  {
   "cell_type": "code",
   "execution_count": null,
   "metadata": {},
   "outputs": [],
   "source": [
    "# Combine the imputed data with the removed columns\n",
    "train_final = hcat(completed_data, train[:, cat_c])\n",
    "# Reorder columns to match the original dataset order\n",
    "train_final = train_final[:, names(train)]"
   ]
  },
  {
   "cell_type": "code",
   "execution_count": null,
   "metadata": {},
   "outputs": [],
   "source": [
    "\n",
    "# Save the final DataFrame to a CSV file\n",
    "CSV.write(\"../training_sets/imputed_train_optimal_knn.csv\", train_final)"
   ]
  }
 ],
 "metadata": {
  "kernelspec": {
   "display_name": "Julia (IAI) 1.10.4",
   "language": "julia",
   "name": "julia-_iai_-1.10"
  },
  "language_info": {
   "file_extension": ".jl",
   "mimetype": "application/julia",
   "name": "julia",
   "version": "1.10.4"
  }
 },
 "nbformat": 4,
 "nbformat_minor": 2
}
