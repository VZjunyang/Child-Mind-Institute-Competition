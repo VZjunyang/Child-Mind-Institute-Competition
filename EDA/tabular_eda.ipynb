{
 "cells": [
  {
   "cell_type": "markdown",
   "id": "62aea3f2",
   "metadata": {},
   "source": [
    "### Importing Packages "
   ]
  },
  {
   "cell_type": "code",
   "execution_count": 1,
   "id": "ce65a199",
   "metadata": {},
   "outputs": [],
   "source": [
    "import pandas as pd\n",
    "import numpy as np\n",
    "from matplotlib import pyplot as plt\n",
    "import seaborn as sns"
   ]
  },
  {
   "cell_type": "markdown",
   "id": "819af769",
   "metadata": {},
   "source": [
    "### Importing Data"
   ]
  },
  {
   "cell_type": "code",
   "execution_count": 2,
   "id": "a0c9d7eb",
   "metadata": {},
   "outputs": [],
   "source": [
    "# note that train.csv consists of the tabular data. This is what we will read in first\n",
    "tabular_train = pd.read_csv(\"../Data/train.csv\")\n",
    "tabular_test = pd.read_csv(\"../Data/test.csv\")\n",
    "\n",
    "# importing the time series data\n",
    "# series_train = pd.read_parquet(\"../Data/series_train.parquet/\")\n",
    "# series_test = pd.read_parquet(\"../Data/series_test.parquet/\")"
   ]
  },
  {
   "cell_type": "markdown",
   "id": "309ca4a9",
   "metadata": {},
   "source": [
    "### Tabular Data "
   ]
  },
  {
   "cell_type": "code",
   "execution_count": 3,
   "id": "9b16fbc1",
   "metadata": {},
   "outputs": [
    {
     "data": {
      "text/plain": [
       "((3960, 82), (20, 59))"
      ]
     },
     "execution_count": 3,
     "metadata": {},
     "output_type": "execute_result"
    }
   ],
   "source": [
    "tabular_train.shape, tabular_test.shape"
   ]
  },
  {
   "cell_type": "code",
   "execution_count": 4,
   "id": "7998d768",
   "metadata": {},
   "outputs": [],
   "source": [
    "# see which columns are in the train set but not the test set\n",
    "# store them in case for filtering\n",
    "response_columns = [col for col in tabular_train.columns.values if col not in tabular_test.columns.values]\n",
    "covariate_columns = [col for col in tabular_train.columns.values if col in tabular_test.columns.values]"
   ]
  },
  {
   "cell_type": "code",
   "execution_count": 5,
   "id": "417208f8",
   "metadata": {},
   "outputs": [
    {
     "data": {
      "text/plain": [
       "['PCIAT-Season',\n",
       " 'PCIAT-PCIAT_01',\n",
       " 'PCIAT-PCIAT_02',\n",
       " 'PCIAT-PCIAT_03',\n",
       " 'PCIAT-PCIAT_04',\n",
       " 'PCIAT-PCIAT_05',\n",
       " 'PCIAT-PCIAT_06',\n",
       " 'PCIAT-PCIAT_07',\n",
       " 'PCIAT-PCIAT_08',\n",
       " 'PCIAT-PCIAT_09',\n",
       " 'PCIAT-PCIAT_10',\n",
       " 'PCIAT-PCIAT_11',\n",
       " 'PCIAT-PCIAT_12',\n",
       " 'PCIAT-PCIAT_13',\n",
       " 'PCIAT-PCIAT_14',\n",
       " 'PCIAT-PCIAT_15',\n",
       " 'PCIAT-PCIAT_16',\n",
       " 'PCIAT-PCIAT_17',\n",
       " 'PCIAT-PCIAT_18',\n",
       " 'PCIAT-PCIAT_19',\n",
       " 'PCIAT-PCIAT_20',\n",
       " 'PCIAT-PCIAT_Total',\n",
       " 'sii']"
      ]
     },
     "execution_count": 5,
     "metadata": {},
     "output_type": "execute_result"
    }
   ],
   "source": [
    "response_columns"
   ]
  },
  {
   "cell_type": "markdown",
   "id": "e0bcb59c",
   "metadata": {},
   "source": [
    "## Sii \n",
    "This is our response."
   ]
  },
  {
   "cell_type": "code",
   "execution_count": 60,
   "id": "6e8c9904",
   "metadata": {},
   "outputs": [
    {
     "data": {
      "text/plain": [
       "1224"
      ]
     },
     "execution_count": 60,
     "metadata": {},
     "output_type": "execute_result"
    }
   ],
   "source": [
    "tabular_train['sii'].isna().sum()"
   ]
  },
  {
   "cell_type": "code",
   "execution_count": 8,
   "id": "99f27932",
   "metadata": {},
   "outputs": [],
   "source": [
    "# drop all the values with the missing sii cause what the hell is the point\n",
    "train_data = tabular_train.loc[~tabular_train['sii'].isna(),:]"
   ]
  },
  {
   "cell_type": "code",
   "execution_count": 9,
   "id": "c6a376a6",
   "metadata": {},
   "outputs": [
    {
     "data": {
      "text/plain": [
       "0.0    1594\n",
       "1.0     730\n",
       "2.0     378\n",
       "3.0      34\n",
       "Name: sii, dtype: int64"
      ]
     },
     "execution_count": 9,
     "metadata": {},
     "output_type": "execute_result"
    }
   ],
   "source": [
    "# we will look at the response first \n",
    "train_data['sii'].value_counts()\n",
    "# most have no sign of any internet abuse\n",
    "#  look like the data is extremely unbalanced"
   ]
  },
  {
   "cell_type": "code",
   "execution_count": 10,
   "id": "cb1290bd",
   "metadata": {},
   "outputs": [
    {
     "data": {
      "text/plain": [
       "(2736, 82)"
      ]
     },
     "execution_count": 10,
     "metadata": {},
     "output_type": "execute_result"
    }
   ],
   "source": [
    "train_data.shape"
   ]
  },
  {
   "cell_type": "markdown",
   "id": "eeaa9d01",
   "metadata": {},
   "source": [
    "## Basic Data\n",
    "#### Basic_Demos-Enroll_Season\n",
    "These are just basic information of the childern. Let's just look at them and see if there is anything interesting."
   ]
  },
  {
   "cell_type": "code",
   "execution_count": 11,
   "id": "f1983701",
   "metadata": {},
   "outputs": [
    {
     "data": {
      "text/plain": [
       "id                                          0\n",
       "Basic_Demos-Enroll_Season                   0\n",
       "Basic_Demos-Age                             0\n",
       "Basic_Demos-Sex                             0\n",
       "CGAS-Season                               394\n",
       "                                         ... \n",
       "SDS-SDS_Total_Raw                         209\n",
       "SDS-SDS_Total_T                           211\n",
       "PreInt_EduHx-Season                        17\n",
       "PreInt_EduHx-computerinternet_hoursday     82\n",
       "sii                                         0\n",
       "Length: 82, dtype: int64"
      ]
     },
     "execution_count": 11,
     "metadata": {},
     "output_type": "execute_result"
    }
   ],
   "source": [
    "train_data.isna().sum()"
   ]
  },
  {
   "cell_type": "code",
   "execution_count": 12,
   "id": "dae2536b",
   "metadata": {},
   "outputs": [
    {
     "data": {
      "text/plain": [
       "count    2736.000000\n",
       "mean       10.238670\n",
       "std         3.427982\n",
       "min         5.000000\n",
       "25%         8.000000\n",
       "50%        10.000000\n",
       "75%        12.000000\n",
       "max        22.000000\n",
       "Name: Basic_Demos-Age, dtype: float64"
      ]
     },
     "execution_count": 12,
     "metadata": {},
     "output_type": "execute_result"
    }
   ],
   "source": [
    "# let's look at the spread of the age\n",
    "train_data['Basic_Demos-Age'].describe()\n",
    "# it looks like this a good indicator of age min and max fall between this"
   ]
  },
  {
   "cell_type": "code",
   "execution_count": 13,
   "id": "1766850c",
   "metadata": {},
   "outputs": [
    {
     "data": {
      "image/png": "[encoded data removed]",
      "text/plain": [
       "<Figure size 640x480 with 1 Axes>"
      ]
     },
     "metadata": {},
     "output_type": "display_data"
    }
   ],
   "source": [
    "# create a quick histgram for the age to get a good understanding\n",
    "# of what ages we are dealing with \n",
    "plt.hist(train_data['Basic_Demos-Age'], bins=17, edgecolor='black')  # You can adjust 'bins' as needed\n",
    "plt.xlabel('Age')\n",
    "plt.ylabel('Count')\n",
    "plt.title('Age Distribution')\n",
    "plt.show()"
   ]
  },
  {
   "cell_type": "code",
   "execution_count": 14,
   "id": "6efedbd7",
   "metadata": {},
   "outputs": [
    {
     "data": {
      "text/plain": [
       "0    1739\n",
       "1     997\n",
       "Name: Basic_Demos-Sex, dtype: int64"
      ]
     },
     "execution_count": 14,
     "metadata": {},
     "output_type": "execute_result"
    }
   ],
   "source": [
    "# look at the sex now\n",
    "train_data['Basic_Demos-Sex'].value_counts()\n",
    "# not really sure what is considerd male or femal this is something we need to figure out"
   ]
  },
  {
   "cell_type": "code",
   "execution_count": 16,
   "id": "f8fd780a",
   "metadata": {},
   "outputs": [
    {
     "data": {
      "text/plain": [
       "<Axes: xlabel='Basic_Demos-Age'>"
      ]
     },
     "execution_count": 16,
     "metadata": {},
     "output_type": "execute_result"
    },
    {
     "data": {
      "image/png": "[encoded data removed]",
      "text/plain": [
       "<Figure size 1200x800 with 1 Axes>"
      ]
     },
     "metadata": {},
     "output_type": "display_data"
    }
   ],
   "source": [
    "# plot the correlation with the age\n",
    "train_data.groupby(['Basic_Demos-Age', 'sii']).count()['id'].unstack().plot(kind='bar', stacked=True, figsize=(12, 8))"
   ]
  },
  {
   "cell_type": "code",
   "execution_count": 17,
   "id": "d49a4302",
   "metadata": {},
   "outputs": [
    {
     "data": {
      "text/plain": [
       "<Axes: xlabel='Basic_Demos-Age'>"
      ]
     },
     "execution_count": 17,
     "metadata": {},
     "output_type": "execute_result"
    },
    {
     "data": {
      "image/png": "[encoded data removed]",
      "text/plain": [
       "<Figure size 1200x800 with 1 Axes>"
      ]
     },
     "metadata": {},
     "output_type": "display_data"
    }
   ],
   "source": [
    "temp = train_data.groupby(['Basic_Demos-Age', 'sii']).count()['id'].unstack()\n",
    "temp['count'] = train_data['Basic_Demos-Age'].value_counts().sort_index().values\n",
    "temp['0_'] = temp[0.0] / temp['count']\n",
    "temp['1_'] = temp[1.0] / temp['count']\n",
    "temp['2_'] = temp[2.0] / temp['count']\n",
    "temp['3_'] = temp[3.0] / temp['count']\n",
    "\n",
    "temp.iloc[:,5:].plot(kind='bar', stacked=True, figsize=(12, 8))"
   ]
  },
  {
   "cell_type": "markdown",
   "id": "b463d8ad",
   "metadata": {},
   "source": [
    "### Cleaning Values\n",
    "In this section we will look at each of the columns to see if there are values that just make no sense.\n",
    "\n",
    "#### CGAS_CGAS Score\n",
    "The Children’s Global Assessment Scale (CGAS), adapted from the Global Assessment Scale for adults, is a rating of general functioning for children and young people aged 4-16 years old. The clinician assesses a range of aspects of psychological and social functioning and gives the child or young person a single score between 1 and 100, based on their lowest level of functioning. The score puts them in one of ten categories that range from “needs constant supervision” (1-10) to “superior functioning” (91-100). The measure can be used by clinicians as well as researchers to complement other scales measuring more specific symptoms.\n",
    "\n",
    "https://www.corc.uk.net/outcome-experience-measures/childrens-global-assessment-scale-cgas/\n",
    "\n",
    "\n",
    "The categories for the CGAS-CGAS-score are the following. \n",
    "\n",
    "* 1-10: Needs constant supervision (24 hour care)\n",
    "* 11-20: Needs considerable supervision\n",
    "* 21-30: Unable to function in almost all areas\n",
    "* 31-40: Major impairment in functioning in several areas and unable to function in one of these areas\n",
    "* 41-50: Moderate degree of interference in functioning in most social areas or severe impairment of functioning in one area\n",
    "* 51-60: Variable functioning with sporadic difficulties or symptoms in several but not all social areas\n",
    "* 61-70: Some difficulty in a single area, but generally functioning pretty well\n",
    "* 71-80: No more than slight impairment in functioning\n",
    "* 81-90: Good functioning in all areas\n",
    "* 91-100: Superior functioning\n",
    "\n",
    "What we have to is to create two data set one with the data with only valid ages. Right now there are people with ages that are above 16 which doesnt allign with the documentation above. The other thing we will do is create a column to map the values to their corresponding categories.\n",
    "The corresponding categories will be\n",
    "\n",
    "    1.) 1-40 --> disabled\n",
    "\n",
    "    2.) 41-70 --> moderately impaired\n",
    "    \n",
    "    3.) 70+ --> healthy \n"
   ]
  },
  {
   "cell_type": "code",
   "execution_count": 137,
   "id": "2b37bd5f",
   "metadata": {},
   "outputs": [
    {
     "data": {
      "text/plain": [
       "394"
      ]
     },
     "execution_count": 137,
     "metadata": {},
     "output_type": "execute_result"
    }
   ],
   "source": [
    "train_data[\"CGAS-CGAS_Score\"].isna().sum()"
   ]
  },
  {
   "cell_type": "code",
   "execution_count": 22,
   "id": "eec4c51c",
   "metadata": {},
   "outputs": [
    {
     "data": {
      "image/png": "[encoded data removed]",
      "text/plain": [
       "<Figure size 640x480 with 1 Axes>"
      ]
     },
     "metadata": {},
     "output_type": "display_data"
    }
   ],
   "source": [
    "# the range of the values are fine\n",
    "# lets create a quick histogram about the age s\n",
    "plt.hist(train_data['CGAS-CGAS_Score'], bins=17, edgecolor='black')  # You can adjust 'bins' as needed\n",
    "plt.xlabel('CGAS-CGAS-Score')\n",
    "plt.ylabel('Count')\n",
    "plt.title('Distribution of CGAS-CGAS-Score')\n",
    "plt.show()"
   ]
  },
  {
   "cell_type": "code",
   "execution_count": 42,
   "id": "2213ffa0",
   "metadata": {},
   "outputs": [
    {
     "data": {
      "text/plain": [
       "(129, 83)"
      ]
     },
     "execution_count": 42,
     "metadata": {},
     "output_type": "execute_result"
    }
   ],
   "source": [
    "# we also need to make sure that there are no ages that should not be getting a score that did not. \n",
    "train_data.loc[(~train_data['CGAS-CGAS_Score'].isna()) & (train_data['Basic_Demos-Age'] > 16),:].shape"
   ]
  },
  {
   "cell_type": "code",
   "execution_count": 38,
   "id": "2615779a",
   "metadata": {},
   "outputs": [
    {
     "name": "stderr",
     "output_type": "stream",
     "text": [
      "C:\\Users\\azpee\\AppData\\Local\\Temp\\ipykernel_51164\\996036291.py:14: SettingWithCopyWarning: \n",
      "A value is trying to be set on a copy of a slice from a DataFrame.\n",
      "Try using .loc[row_indexer,col_indexer] = value instead\n",
      "\n",
      "See the caveats in the documentation: https://pandas.pydata.org/pandas-docs/stable/user_guide/indexing.html#returning-a-view-versus-a-copy\n",
      "  train_data['CGAS_categorry'] = train_data['CGAS-CGAS_Score'].apply(assign_status)\n"
     ]
    }
   ],
   "source": [
    "# we create a new column which changes this columns to the corresponding groups the actually give some context\n",
    "# Define a function for the mapping the values \n",
    "def assign_status(value):\n",
    "    if pd.isna(value):\n",
    "        return value\n",
    "    if value <= 40:\n",
    "        return 'disabled'\n",
    "    elif 41 <= value <= 70:\n",
    "        return 'moderately disabled'\n",
    "    else:\n",
    "        return 'healthy'\n",
    "\n",
    "# Apply the function to create a new column\n",
    "train_data['CGAS_categorry'] = train_data['CGAS-CGAS_Score'].apply(assign_status)"
   ]
  },
  {
   "cell_type": "markdown",
   "id": "d8deb1b2",
   "metadata": {},
   "source": [
    "#### Physical Columns\n",
    "\n",
    "##### Physical-BMI\n",
    "This value is body mass index for each kid. The values of the BMI can be calculated as \n",
    "\n",
    "BMI = weight (kg) / height (m)2\n",
    "\n",
    "Immediately we notice that some of the BMI's are 0 which makes no sense. We will fill these values in order to change there are only 7 people with this count. We can also try to impute some of the missing values based on the height and the weight with the above formula. \n",
    "\n",
    "##### Physical Weight\n",
    "There are 52 individuals with a weight of 0. We will set all of these to missing as well.\n",
    "\n",
    "##### Physical-Waist_Circumference\n",
    "There are too many missing values we are just going to drop this. \n",
    "\n",
    "So the first imputation block will be to group Physical-BMI, Physical-Height, and Physical_weight together to see if the values make sense. "
   ]
  },
  {
   "cell_type": "code",
   "execution_count": 58,
   "id": "1194c8c3",
   "metadata": {},
   "outputs": [
    {
     "name": "stderr",
     "output_type": "stream",
     "text": [
      "C:\\Users\\azpee\\AppData\\Local\\Temp\\ipykernel_51164\\766127127.py:2: SettingWithCopyWarning: \n",
      "A value is trying to be set on a copy of a slice from a DataFrame\n",
      "\n",
      "See the caveats in the documentation: https://pandas.pydata.org/pandas-docs/stable/user_guide/indexing.html#returning-a-view-versus-a-copy\n",
      "  train_data.drop(columns=['Physical-Waist_Circumference'], inplace = True)\n"
     ]
    }
   ],
   "source": [
    "# drop the waist circumference\n",
    "train_data.drop(columns=['Physical-Waist_Circumference'], inplace = True)"
   ]
  },
  {
   "cell_type": "code",
   "execution_count": 46,
   "id": "de417ba4",
   "metadata": {},
   "outputs": [
    {
     "name": "stderr",
     "output_type": "stream",
     "text": [
      "C:\\Users\\azpee\\AppData\\Local\\Temp\\ipykernel_51164\\1208717403.py:8: SettingWithCopyWarning: \n",
      "A value is trying to be set on a copy of a slice from a DataFrame.\n",
      "Try using .loc[row_indexer,col_indexer] = value instead\n",
      "\n",
      "See the caveats in the documentation: https://pandas.pydata.org/pandas-docs/stable/user_guide/indexing.html#returning-a-view-versus-a-copy\n",
      "  train_data['fixed-Physical-BMI'] = train_data['Physical-BMI'].apply(fill_0_with_NA)\n"
     ]
    }
   ],
   "source": [
    "def fill_0_with_NA(val):\n",
    "    # this will fill the 0s with NA\n",
    "    if val == 0:\n",
    "        return np.nan\n",
    "    else:\n",
    "        return val\n",
    "\n",
    "train_data['fixed-Physical-BMI'] = train_data['Physical-BMI'].apply(fill_0_with_NA)\n",
    "train_data['fixed_Weight'] = train_data['Physical-Weight'].apply(fill_0_with_NA)"
   ]
  },
  {
   "cell_type": "code",
   "execution_count": null,
   "id": "f2a7ebb1",
   "metadata": {},
   "outputs": [],
   "source": [
    "# create a data frame to just impute these values\n",
    "# train_data.loc[:, ['id','fixed-Physical-BMI', 'Physical-Height', 'Physical-Weight']].to_csv('BMI_chunk.csv', index = False)"
   ]
  },
  {
   "cell_type": "markdown",
   "id": "7a6cf599",
   "metadata": {},
   "source": [
    "#### Heart Stuff \n",
    "https://www.lovethispic.com/blog/47839/this-blood-pressure-chart-based-on-age-is-something-everyone-should-know-about\n",
    "\n",
    "The following chart is the what is considerd normal or or high blood presures. \n",
    "| Age             | Min     | Normal  | Max      |\n",
    "|------------------|---------|---------|----------|\n",
    "| 1-2 years  | 75/50   | 90/60   | 110/75   |\n",
    "| 1 to 5 years    | 80/55   | 95/65   | 110/79   |\n",
    "| 6 to 13 years   | 90/60   | 105/70  | 115/80   |\n",
    "| 14 to 19 years  | 105/73  | 117/77  | 120/81   |\n",
    "| 20 to 24 years  | 108/75  | 120/79  | 132/83   |\n",
    "\n",
    "Based on this table we will bin the results together to min normal and max. We will first take out any values that make no sense. For now we will do anything that has a Diastolic blood pressure of more than 83 or less than 50. \n",
    "\n",
    "We must also check that the heartrates make sense in the context of the problems. We will follow what the article says\n",
    "https://health.clevelandclinic.org/pushing-childs-heart-rate-high\n",
    "We will remove anything less that 60 and anything greater than 140"
   ]
  },
  {
   "cell_type": "code",
   "execution_count": 77,
   "id": "ce8b35e8",
   "metadata": {},
   "outputs": [
    {
     "name": "stderr",
     "output_type": "stream",
     "text": [
      "C:\\Users\\azpee\\AppData\\Local\\Temp\\ipykernel_51164\\1629538943.py:3: SettingWithCopyWarning: \n",
      "A value is trying to be set on a copy of a slice from a DataFrame.\n",
      "Try using .loc[row_indexer,col_indexer] = value instead\n",
      "\n",
      "See the caveats in the documentation: https://pandas.pydata.org/pandas-docs/stable/user_guide/indexing.html#returning-a-view-versus-a-copy\n",
      "  train_data['diastolic_bp'] = train_data['Physical-Diastolic_BP'].apply(lambda x: np.nan if (x < 50) or (x > 83) else x)\n",
      "C:\\Users\\azpee\\AppData\\Local\\Temp\\ipykernel_51164\\1629538943.py:4: SettingWithCopyWarning: \n",
      "A value is trying to be set on a copy of a slice from a DataFrame.\n",
      "Try using .loc[row_indexer,col_indexer] = value instead\n",
      "\n",
      "See the caveats in the documentation: https://pandas.pydata.org/pandas-docs/stable/user_guide/indexing.html#returning-a-view-versus-a-copy\n",
      "  train_data['systolic_bp'] = train_data['Physical-Systolic_BP'].apply(lambda x: np.nan if (x < 75) or (x > 132) else x)\n"
     ]
    }
   ],
   "source": [
    "# this will make something as missing \n",
    "# we wil create a function that does this and sets everything to 0\n",
    "train_data['diastolic_bp'] = train_data['Physical-Diastolic_BP'].apply(lambda x: np.nan if (x < 50) or (x > 83) else x)\n",
    "train_data['systolic_bp'] = train_data['Physical-Systolic_BP'].apply(lambda x: np.nan if (x < 75) or (x > 132) else x)\n",
    "train_data['heart_rate'] = train_data['Physical-HeartRate'].apply(lambda x: np.nan if (x < 60) or (x > 140) else x)"
   ]
  },
  {
   "cell_type": "code",
   "execution_count": 71,
   "id": "0b12b9ed",
   "metadata": {},
   "outputs": [
    {
     "data": {
      "text/plain": [
       "258"
      ]
     },
     "execution_count": 71,
     "metadata": {},
     "output_type": "execute_result"
    }
   ],
   "source": [
    "# Define function to categorize blood pressure by age group\n",
    "def categorize_blood_pressure(row):\n",
    "    if row['Basic_Demos-Age'] <= 1:\n",
    "        if row['Physical-Systolic_BP'] < 90 or row['Physical-Diastolic_BP'] < 60:\n",
    "            return 'Low'\n",
    "        elif 90 <= row['Physical-Systolic_BP'] <= 110 and 60 <= row['Physical-Diastolic_BP'] <= 75:\n",
    "            return 'Normal'\n",
    "        else:\n",
    "            return 'High'\n",
    "    elif (row['Basic_Demos-Age'] > 1) & (row['Basic_Demos-Age'] <= 5):\n",
    "        if row['Physical-Systolic_BP'] < 95 or row['Physical-Diastolic_BP'] < 65:\n",
    "            return 'Low'\n",
    "        elif 95 <= row['Physical-Systolic_BP'] <= 110 and 65 <= row['Physical-Diastolic_BP'] <= 79:\n",
    "            return 'Normal'\n",
    "        else:\n",
    "            return 'High'\n",
    "    elif row['Basic_Demos-Age'] <= 13:\n",
    "        if row['Physical-Systolic_BP'] < 105 or row['Physical-Diastolic_BP'] < 70:\n",
    "            return 'Low'\n",
    "        elif 105 <= row['Physical-Systolic_BP'] <= 115 and 70 <= row['Physical-Diastolic_BP'] <= 80:\n",
    "            return 'Normal'\n",
    "        else:\n",
    "            return 'High'\n",
    "    elif row['Basic_Demos-Age'] <= 19:\n",
    "        if row['Physical-Systolic_BP'] < 117 or row['Physical-Diastolic_BP'] < 77:\n",
    "            return 'Low'\n",
    "        elif 117 <= row['Physical-Systolic_BP'] <= 120 and 77 <= row['Physical-Diastolic_BP'] <= 81:\n",
    "            return 'Normal'\n",
    "        else:\n",
    "            return 'High'\n",
    "    else:  # 20 to 24 years\n",
    "        if row['Physical-Systolic_BP'] < 120 or row['Physical-Diastolic_BP'] < 79:\n",
    "            return 'Low'\n",
    "        elif 120 <= row['Physical-Systolic_BP'] <= 132 and 79 <= row['Physical-Diastolic_BP'] <= 83:\n",
    "            return 'Normal'\n",
    "        else:\n",
    "            return 'High'\n",
    "\n",
    "# Apply function to create the new column\n",
    "train_data['Bloo_ Pressure_Category'] = train_data.apply(categorize_blood_pressure, axis=1)"
   ]
  },
  {
   "cell_type": "markdown",
   "id": "71c86e06",
   "metadata": {},
   "source": [
    "#### Fitness Columns for The Treadmill\n",
    "\n",
    " The CV fitness exam was performed by trained health technicians. The protocol is a submaximal exercise test. Based on gender, age, body mass index, and self-reported level of physical activity, participants are assigned to one of eight treadmill test protocols. The goal of each protocol is to elicit a heart rate that is approximately 75 percent of the age-predicted maximum (220-age) by the end of the test. Each protocol includes a 2-minute warm-up, two 3-minute exercise stages, and a 2-minute cool down period.\n",
    "\n",
    "Note that only some of the kids have had this test taken out on them. We will look at the kids who used this test and try to understand what these columns mean.\n",
    "\n",
    "##### Fitness_Endurance-Max_Stage\n",
    "\n",
    "The Fitness_Endurance-Max_Stage column likely refers to the maximum stage or level reached during a treadmill exercise test, such as the Bruce Protocol used in fitness or cardiovascular assessments. In this context, it would represent the highest intensity stage or level the individual completed before reaching their physical limit, typically based on speed and incline during the test. The value could indicate the participant's cardiovascular endurance or fitness level. This value should be from 1-7. We will clip this value to represent this. \n",
    "\n",
    "##### Fitness_Endurance-Time_Mins\n",
    "The Fitness_Endurance-Time_Mins column likely represents the total duration, in minutes, that a participant was able to sustain during the treadmill exercise test based on the NHANES protocol or a similar exercise protocol. This would indicate how long the individual was able to complete the treadmill test, which typically involves gradually increasing intensity until the participant reaches their maximal exertion level. The Higher the better. Time in seconds makes no sense as the values do not line up so we will keep both. \n",
    "\n"
   ]
  },
  {
   "cell_type": "code",
   "execution_count": 136,
   "id": "e2a834c2",
   "metadata": {},
   "outputs": [
    {
     "data": {
      "text/plain": [
       "0"
      ]
     },
     "execution_count": 136,
     "metadata": {},
     "output_type": "execute_result"
    }
   ],
   "source": [
    "treadmill_data['Fitness_Endurance-Season'].isna().sum()"
   ]
  },
  {
   "cell_type": "code",
   "execution_count": 95,
   "id": "e2603c2c",
   "metadata": {},
   "outputs": [
    {
     "data": {
      "text/plain": [
       "Fitness_Endurance-Season       1476\n",
       "Fitness_Endurance-Max_Stage    2005\n",
       "Fitness_Endurance-Time_Mins    2008\n",
       "Fitness_Endurance-Time_Sec     2008\n",
       "dtype: int64"
      ]
     },
     "execution_count": 95,
     "metadata": {},
     "output_type": "execute_result"
    }
   ],
   "source": [
    "train_data.loc[:, [col for col in train_data.columns if 'Fitness' in col]].isna().sum() "
   ]
  },
  {
   "cell_type": "code",
   "execution_count": 101,
   "id": "f92b7d90",
   "metadata": {},
   "outputs": [],
   "source": [
    "treadmill_data = train_data.loc[~(train_data['Fitness_Endurance-Max_Stage'].isna()) | \n",
    "                                ~(train_data['Fitness_Endurance-Time_Mins'].isna()) | \n",
    "                                ~(train_data['Fitness_Endurance-Time_Sec'].isna()), :]"
   ]
  },
  {
   "cell_type": "code",
   "execution_count": 105,
   "id": "34ea29b1",
   "metadata": {},
   "outputs": [
    {
     "name": "stderr",
     "output_type": "stream",
     "text": [
      "C:\\Users\\azpee\\AppData\\Local\\Temp\\ipykernel_51164\\199890196.py:1: SettingWithCopyWarning: \n",
      "A value is trying to be set on a copy of a slice from a DataFrame.\n",
      "Try using .loc[row_indexer,col_indexer] = value instead\n",
      "\n",
      "See the caveats in the documentation: https://pandas.pydata.org/pandas-docs/stable/user_guide/indexing.html#returning-a-view-versus-a-copy\n",
      "  train_data['Clipped_Fitness_Endurance'] = train_data['Fitness_Endurance-Max_Stage'].apply(lambda x: 1 if x == 0 else min(x, 7))\n"
     ]
    }
   ],
   "source": [
    "train_data['Clipped_Fitness_Endurance'] = train_data['Fitness_Endurance-Max_Stage'].apply(lambda x: 1 if x == 0 else min(x, 7))"
   ]
  },
  {
   "cell_type": "code",
   "execution_count": 111,
   "id": "de9d0964",
   "metadata": {},
   "outputs": [
    {
     "data": {
      "image/png": "[encoded data removed]",
      "text/plain": [
       "<Figure size 640x480 with 1 Axes>"
      ]
     },
     "metadata": {},
     "output_type": "display_data"
    }
   ],
   "source": [
    "plt.hist(treadmill_data['Fitness_Endurance-Time_Mins'], bins=17, edgecolor='black')  # You can adjust 'bins' as needed\n",
    "plt.xlabel('Endurance Score')\n",
    "plt.ylabel('Count')\n",
    "plt.title('Distribution of Treadmill and Endurance Score')\n",
    "plt.show()"
   ]
  },
  {
   "cell_type": "markdown",
   "id": "e2e1eb23",
   "metadata": {},
   "source": [
    "#### FitnessGram Child\n",
    "Health related physical fitness assessment measuring five different parameters including aerobic capacity, muscular strength, muscular endurance, flexibility, and body composition.\n",
    "\n"
   ]
  },
  {
   "cell_type": "code",
   "execution_count": 123,
   "id": "394819a1",
   "metadata": {},
   "outputs": [],
   "source": [
    "# grab all the children that had this test don\n",
    "# we want to grab all the children who took this test \n",
    "train_data_fgc = train_data[train_data[[col for col in train_data.columns if 'FGC' in col]].notna().any(axis=1)]\n"
   ]
  },
  {
   "cell_type": "code",
   "execution_count": 127,
   "id": "ce166c08",
   "metadata": {},
   "outputs": [
    {
     "data": {
      "text/plain": [
       "(2647, 88)"
      ]
     },
     "execution_count": 127,
     "metadata": {},
     "output_type": "execute_result"
    }
   ],
   "source": [
    "train_data.loc[~train_data['FGC-Season'].isna(), :].shape"
   ]
  },
  {
   "cell_type": "code",
   "execution_count": 120,
   "id": "8e74c418",
   "metadata": {},
   "outputs": [
    {
     "data": {
      "text/plain": [
       "0        0.0\n",
       "1        3.0\n",
       "2       20.0\n",
       "3       18.0\n",
       "5       12.0\n",
       "        ... \n",
       "3953     0.0\n",
       "3954     0.0\n",
       "3955    16.0\n",
       "3957    15.0\n",
       "3958     NaN\n",
       "Name: FGC-FGC_CU, Length: 2736, dtype: float64"
      ]
     },
     "execution_count": 120,
     "metadata": {},
     "output_type": "execute_result"
    }
   ],
   "source": [
    "fitness_gram_data['FGC-FGC_CU']"
   ]
  },
  {
   "cell_type": "code",
   "execution_count": 138,
   "id": "ce72e4d4",
   "metadata": {},
   "outputs": [
    {
     "data": {
      "text/plain": [
       "(1801, 88)"
      ]
     },
     "execution_count": 138,
     "metadata": {},
     "output_type": "execute_result"
    }
   ],
   "source": [
    "train_data.loc[(~train_data['BIA-Season'].isna()) & (~train_data['FGC-Season'].isna()), :].shape"
   ]
  },
  {
   "cell_type": "code",
   "execution_count": 129,
   "id": "4709318b",
   "metadata": {},
   "outputs": [
    {
     "data": {
      "text/plain": [
       "['BIA-Season',\n",
       " 'BIA-BIA_Activity_Level_num',\n",
       " 'BIA-BIA_BMC',\n",
       " 'BIA-BIA_BMI',\n",
       " 'BIA-BIA_BMR',\n",
       " 'BIA-BIA_DEE',\n",
       " 'BIA-BIA_ECW',\n",
       " 'BIA-BIA_FFM',\n",
       " 'BIA-BIA_FFMI',\n",
       " 'BIA-BIA_FMI',\n",
       " 'BIA-BIA_Fat',\n",
       " 'BIA-BIA_Frame_num',\n",
       " 'BIA-BIA_ICW',\n",
       " 'BIA-BIA_LDM',\n",
       " 'BIA-BIA_LST',\n",
       " 'BIA-BIA_SMM',\n",
       " 'BIA-BIA_TBW']"
      ]
     },
     "execution_count": 129,
     "metadata": {},
     "output_type": "execute_result"
    }
   ],
   "source": [
    "[col for col in train_data.columns if 'BIA' in col]"
   ]
  },
  {
   "cell_type": "code",
   "execution_count": 134,
   "id": "72e2aa19",
   "metadata": {},
   "outputs": [
    {
     "data": {
      "text/plain": [
       "(363, 88)"
      ]
     },
     "execution_count": 134,
     "metadata": {},
     "output_type": "execute_result"
    }
   ],
   "source": [
    "train_data.loc[~train_data['PAQ_A-Season'].isna(), :].shape"
   ]
  },
  {
   "cell_type": "code",
   "execution_count": 133,
   "id": "a204b5d2",
   "metadata": {},
   "outputs": [
    {
     "data": {
      "text/plain": [
       "['PAQ_A-Season', 'PAQ_A-PAQ_A_Total', 'PAQ_C-Season', 'PAQ_C-PAQ_C_Total']"
      ]
     },
     "execution_count": 133,
     "metadata": {},
     "output_type": "execute_result"
    }
   ],
   "source": [
    "[col for col in train_data.columns if 'PAQ' in col]"
   ]
  },
  {
   "cell_type": "code",
   "execution_count": 115,
   "id": "f5d67474",
   "metadata": {},
   "outputs": [
    {
     "data": {
      "text/html": [
       "<div>\n",
       "<style scoped>\n",
       "    .dataframe tbody tr th:only-of-type {\n",
       "        vertical-align: middle;\n",
       "    }\n",
       "\n",
       "    .dataframe tbody tr th {\n",
       "        vertical-align: top;\n",
       "    }\n",
       "\n",
       "    .dataframe thead th {\n",
       "        text-align: right;\n",
       "    }\n",
       "</style>\n",
       "<table border=\"1\" class=\"dataframe\">\n",
       "  <thead>\n",
       "    <tr style=\"text-align: right;\">\n",
       "      <th></th>\n",
       "      <th>Fitness_Endurance-Time_Sec</th>\n",
       "      <th>Fitness_Endurance-Time_Mins</th>\n",
       "    </tr>\n",
       "  </thead>\n",
       "  <tbody>\n",
       "    <tr>\n",
       "      <th>2</th>\n",
       "      <td>33.0</td>\n",
       "      <td>7.0</td>\n",
       "    </tr>\n",
       "    <tr>\n",
       "      <th>3</th>\n",
       "      <td>37.0</td>\n",
       "      <td>9.0</td>\n",
       "    </tr>\n",
       "    <tr>\n",
       "      <th>15</th>\n",
       "      <td>32.0</td>\n",
       "      <td>5.0</td>\n",
       "    </tr>\n",
       "    <tr>\n",
       "      <th>27</th>\n",
       "      <td>45.0</td>\n",
       "      <td>1.0</td>\n",
       "    </tr>\n",
       "    <tr>\n",
       "      <th>36</th>\n",
       "      <td>21.0</td>\n",
       "      <td>5.0</td>\n",
       "    </tr>\n",
       "    <tr>\n",
       "      <th>...</th>\n",
       "      <td>...</td>\n",
       "      <td>...</td>\n",
       "    </tr>\n",
       "    <tr>\n",
       "      <th>3929</th>\n",
       "      <td>19.0</td>\n",
       "      <td>10.0</td>\n",
       "    </tr>\n",
       "    <tr>\n",
       "      <th>3930</th>\n",
       "      <td>56.0</td>\n",
       "      <td>12.0</td>\n",
       "    </tr>\n",
       "    <tr>\n",
       "      <th>3940</th>\n",
       "      <td>37.0</td>\n",
       "      <td>1.0</td>\n",
       "    </tr>\n",
       "    <tr>\n",
       "      <th>3947</th>\n",
       "      <td>20.0</td>\n",
       "      <td>5.0</td>\n",
       "    </tr>\n",
       "    <tr>\n",
       "      <th>3948</th>\n",
       "      <td>40.0</td>\n",
       "      <td>1.0</td>\n",
       "    </tr>\n",
       "  </tbody>\n",
       "</table>\n",
       "<p>731 rows × 2 columns</p>\n",
       "</div>"
      ],
      "text/plain": [
       "      Fitness_Endurance-Time_Sec  Fitness_Endurance-Time_Mins\n",
       "2                           33.0                          7.0\n",
       "3                           37.0                          9.0\n",
       "15                          32.0                          5.0\n",
       "27                          45.0                          1.0\n",
       "36                          21.0                          5.0\n",
       "...                          ...                          ...\n",
       "3929                        19.0                         10.0\n",
       "3930                        56.0                         12.0\n",
       "3940                        37.0                          1.0\n",
       "3947                        20.0                          5.0\n",
       "3948                        40.0                          1.0\n",
       "\n",
       "[731 rows x 2 columns]"
      ]
     },
     "execution_count": 115,
     "metadata": {},
     "output_type": "execute_result"
    }
   ],
   "source": [
    "treadmill_data[['Fitness_Endurance-Time_Sec','Fitness_Endurance-Time_Mins']]"
   ]
  },
  {
   "cell_type": "code",
   "execution_count": null,
   "id": "0629b3c1",
   "metadata": {},
   "outputs": [],
   "source": [
    "# trying the tab2text\n",
    "def generate_text(row):\n",
    "    return f\"\"\"This individual was enrolled in the study during the {row['Basic_Demos-Enroll_Season']}, \n",
    "    a season when their SII response measurement was calculated. They are {row['Basic_Demos-Age']} years old, \n",
    "    and their sex is recorded as {row['Basic_Demos-Sex']} (0 represents male, and 1 represents female).\n",
    "\n",
    "    The child’s global functioning was assessed during {row['CGAS-Season']} \n",
    "    using the Children's Global Assessment Scale, with a score of {row['CGAS-CGAS_Score']}, \n",
    "    which evaluates the overall level of functioning with a possible range from 1 to 99.\n",
    "\n",
    "    Physical measurements taken in {row['Physical-Season']} \n",
    "    include a Body Mass Index (BMI) of {row['Physical-BMI']} \n",
    "    (some measurements may indicate 0.0, which could suggest unavailable or inaccurate data), \n",
    "    a height of {row['Physical-Height']} inches, weight of \n",
    "    {row['Physical-Weight']} lbs, waist circumference of \n",
    "    {row['Physical-Waist_Circumference']} inches, diastolic BP of \n",
    "    {row['Physical-Diastolic_BP']} mmHg, heart rate of \n",
    "    {row['Physical-HeartRate']} bpm, and systolic BP of \n",
    "    {row['Physical-Systolic_BP']} mmHg.\n",
    "\n",
    "    During the Fitness Endurance assessment in \n",
    "    {row['Fitness_Endurance-Season']}, \n",
    "    the participant reached a maximum stage of \n",
    "    {row['Fitness_Endurance-Max_Stage']} and completed a time of \n",
    "    {row['Fitness_Endurance-Time_Mins']} minutes and \n",
    "    {row['Fitness_Endurance-Time_Sec']} seconds.\n",
    "    \n",
    "    In the FitnessGram test in {row['FGC-Season']}, \n",
    "    the participant performed {row['FGC-FGC_CU']} curl-ups, \n",
    "    placing them in the {row['FGC-FGC_CU_Zone']} zone (0 indicates \"Needs Improvement\" and 1 represents the \"Healthy Fitness Zone\"). \n",
    "    Grip strength for both hands was measured, with {row['FGC-FGC_GSND']} for the non-dominant hand \n",
    "    and they fell in the ({row['FGC-FGC_GSND_Zone']}, where 1 is \"Weak,\" 2 is \"Normal,\" and 3 is \"Strong\"). \n",
    "    Grip strength was {row['FGC-FGC_GSD']} for the dominant hand \n",
    "    and they fell into {row['FGC-FGC_GSD_Zone']}. \n",
    "    Push-up and flexibility measurements showed a push-up total of {row['FGC-FGC_PU']}\n",
    "    which fell into the {row['FGC-FGC_PU_Zone']} which indicates the fitness level, 0 for \"Needs Improvement\" and 1 for \"Healthy Fitness Zone\").\n",
    "    Additional flexibility tests for the left and right sides were {row['FGC-FGC_SRL']} and {row['FGC-FGC_SRR']} respectively, \n",
    "    with zones recorded as {row['FGC-FGC_SRL_Zone']} and {row['FGC-FGC_SRR_Zone']} for the left and right side respectively. \n",
    "    The trunk lift score was {row['FGC-FGC_TL']}, and their fitness zone for trunk lift was {row['FGC-FGC_TL_Zone']}.\n",
    "\n",
    "    The participant’s body composition was analyzed through Bio-electric Impedance Analysis (BIA) during {row['BIA-Season']}. \n",
    "    Key measures include their activity level of {row['BIA-BIA_Activity_Level_num']} (where 1 is \"Very Light\" and 5 is \"Exceptional\"),\n",
    "    a body fat percentage of {row['BIA-BIA_Fat']}, \n",
    "    a bone mineral content of {row['BIA-BIA_BMC']}, \n",
    "    a BMI of {row['BIA-BIA_BMI']}, \n",
    "    and their total body water (TBW) recorded as {row['BIA-BIA_TBW']}. \n",
    "    Other BIA metrics include basal metabolic rate (BMR) of {row['BIA-BIA_BMR']}, \n",
    "    daily energy expenditure (DEE) of {row['BIA-BIA_DEE']}, \n",
    "    extracellular water (ECW) of {row['BIA-BIA_ECW']}, \n",
    "    fat-free mass (FFM) of {row['BIA-BIA_FFM']}, \n",
    "    fat mass index (FMI) of {row['BIA-BIA_FMI']}, \n",
    "    and skeletal muscle mass (SMM) of {row['BIA-BIA_SMM']}.\n",
    "\n",
    "    Activity levels from the Physical Activity Questionnaire for Adolescents (PAQ-A) and Children (PAQ-C) were recorded during {row['PAQ_A-Season']} \n",
    "    and {row['PAQ_C-Season']}, \n",
    "    showing scores of {row['PAQ_A-PAQ_A_Total']} \n",
    "    and {row['PAQ_C-PAQ_C_Total']} respectively, summarizing the overall physical activity level for each age group.\n",
    "\n",
    "    The Sleep Disturbance Scale (SDS) in {row['SDS-Season']} \n",
    "    recorded a total raw score of {row['SDS-SDS_Total_Raw']} \n",
    "    and a standardized T-score of {row['SDS-SDS_Total_T']}\n",
    "\n",
    "    Finally, computer and internet usage data for {row['PreInt_EduHx-Season']} \n",
    "    shows that this participant spends {row['PreInt_EduHx-computerinternet_hoursday']} \n",
    "    hours per day online (0 = Less than 1h/day, 1 = Around 1h/day, 2 = Around 2h/day, 3 = More than 3h/day).\n",
    "    \"\"\"\n"
   ]
  },
  {
   "cell_type": "code",
   "execution_count": 101,
   "id": "436e5a0f",
   "metadata": {},
   "outputs": [],
   "source": [
    "text_column = [generate_text(without_survey.loc[row,:]) for row in range(without_survey.shape[0])]"
   ]
  },
  {
   "cell_type": "code",
   "execution_count": 104,
   "id": "52707e77",
   "metadata": {},
   "outputs": [],
   "source": [
    "without_survey['text_column'] = text_column"
   ]
  },
  {
   "cell_type": "code",
   "execution_count": 113,
   "id": "0a392c3f",
   "metadata": {},
   "outputs": [],
   "source": [
    "without_survey['clean_text'] = [without_survey['text_column'][i].replace('\\n',' ').replace('      ', ' ').replace('     ',' ') for i in range(without_survey.shape[0])]"
   ]
  },
  {
   "cell_type": "code",
   "execution_count": 115,
   "id": "af7493f8",
   "metadata": {},
   "outputs": [
    {
     "data": {
      "text/plain": [
       "'This individual was enrolled in the study during the Fall, a season when their SII response measurement was calculated. They are 5 years old, and their sex is recorded as 0 (0 represents male, and 1 represents female). The child’s global functioning was assessed during Winter using the Children\\'s Global Assessment Scale, with a score of 51.0, which evaluates the overall level of functioning with a possible range from 1 to 99. Physical measurements taken in Fall include a Body Mass Index (BMI) of 16.87731569 (some measurements may indicate 0.0, which could suggest unavailable or inaccurate data), a height of 46.0 inches, weight of 50.8 lbs, waist circumference of nan inches, diastolic BP of nan mmHg, heart rate of nan bpm, and systolic BP of nan mmHg. During the Fitness Endurance assessment in nan, the participant reached a maximum stage of nan and completed a time of nan minutes and nan seconds. In the FitnessGram test in Fall, the participant performed 0.0 curl-ups, placing them in the 0.0 zone (0 indicates \"Needs Improvement\" and 1 represents the \"Healthy Fitness Zone\"). Grip strength for both hands was measured, with nan for the non-dominant hand and they fell in the (nan, where 1 is \"Weak,\" 2 is \"Normal,\" and 3 is \"Strong\"). Grip strength was nan for the dominant hand and they fell into nan. Push-up and flexibility measurements showed a push-up total of 0.0 which fell into the 0.0 which indicates the fitness level, 0 for \"Needs Improvement\" and 1 for \"Healthy Fitness Zone\"). Additional flexibility tests for the left and right sides were 7.0 and 6.0 respectively, with zones recorded as 0.0 and 0.0 for the left and right side respectively. The trunk lift score was 6.0, and their fitness zone for trunk lift was 1.0. The participant’s body composition was analyzed through Bio-electric Impedance Analysis (BIA) during Fall. Key measures include their activity level of 2.0 (where 1 is \"Very Light\" and 5 is \"Exceptional\"), a body fat percentage of 9.21377, a bone mineral content of 2.66855, a BMI of 16.8792, and their total body water (TBW) recorded as 32.6909. Other BIA metrics include basal metabolic rate (BMR) of 932.498, daily energy expenditure (DEE) of 1492.0, extracellular water (ECW) of 8.25598, fat-free mass (FFM) of 41.5862, fat mass index (FMI) of 3.06143, and skeletal muscle mass (SMM) of 19.5413. Activity levels from the Physical Activity Questionnaire for Adolescents (PAQ-A) and Children (PAQ-C) were recorded during nan and nan, showing scores of nan and nan respectively, summarizing the overall physical activity level for each age group. The Sleep Disturbance Scale (SDS) in nan recorded a total raw score of nan and a standardized T-score of nan Finally, computer and internet usage data for Fall shows that this participant spends 3.0 hours per day online (0 = Less than 1h/day, 1 = Around 1h/day, 2 = Around 2h/day, 3 = More than 3h/day). '"
      ]
     },
     "execution_count": 115,
     "metadata": {},
     "output_type": "execute_result"
    }
   ],
   "source": [
    "without_survey['clean_text'][0]"
   ]
  },
  {
   "cell_type": "code",
   "execution_count": 116,
   "id": "ada56a4c",
   "metadata": {},
   "outputs": [],
   "source": [
    "without_survey.to_csv(\"data_with_text.csv\")"
   ]
  }
 ],
 "metadata": {
  "kernelspec": {
   "display_name": "PSTAT231_final",
   "language": "python",
   "name": "pstat231_final"
  },
  "language_info": {
   "codemirror_mode": {
    "name": "ipython",
    "version": 3
   },
   "file_extension": ".py",
   "mimetype": "text/x-python",
   "name": "python",
   "nbconvert_exporter": "python",
   "pygments_lexer": "ipython3",
   "version": "3.10.9"
  }
 },
 "nbformat": 4,
 "nbformat_minor": 5
}
